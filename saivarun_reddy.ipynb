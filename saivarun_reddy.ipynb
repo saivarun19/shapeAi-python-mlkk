{
  "nbformat": 4,
  "nbformat_minor": 0,
  "metadata": {
    "colab": {
      "name": "saivarun reddy.ipynb",
      "provenance": []
    },
    "kernelspec": {
      "name": "python3",
      "display_name": "Python 3"
    },
    "language_info": {
      "name": "python"
    }
  },
  "cells": [
    {
      "cell_type": "code",
      "metadata": {
        "id": "k-_LTon0G-a3"
      },
      "source": [
        "import numpy as np\n",
        "import numpy as pd\n",
        "import sklearn"
      ],
      "execution_count": null,
      "outputs": []
    },
    {
      "cell_type": "code",
      "metadata": {
        "id": "eMhRyaGbHGRK"
      },
      "source": [
        "from sklearn.datasets import load_boston\n",
        "df = load_boston()"
      ],
      "execution_count": null,
      "outputs": []
    },
    {
      "cell_type": "code",
      "metadata": {
        "id": "KFYKgx4_HK-f"
      },
      "source": [
        "df.keys() # Returens all the keys of the dataset dictionary"
      ],
      "execution_count": null,
      "outputs": []
    },
    {
      "cell_type": "code",
      "metadata": {
        "id": "qF2M2uqIHPYx"
      },
      "source": [
        "M = { 1:100 , 2:200 , 3:300 }\n",
        "M [2]"
      ],
      "execution_count": null,
      "outputs": []
    },
    {
      "cell_type": "code",
      "metadata": {
        "id": "aYvDoCN-HUqF"
      },
      "source": [
        "from sklearns.datasets import load_boston\n",
        "df = load_boston()"
      ],
      "execution_count": null,
      "outputs": []
    },
    {
      "cell_type": "code",
      "metadata": {
        "id": "kaweZhM0HZNa"
      },
      "source": [
        "df.keys()"
      ],
      "execution_count": null,
      "outputs": []
    },
    {
      "cell_type": "code",
      "metadata": {
        "id": "B1zgXMB0HgAv"
      },
      "source": [
        "print(df.filename) # info about the dataset\n",
        "\n",
        "S = {/usr/local/lib/python4.6 } \n",
        "r = {/usr/local/fad/nade }\n",
        "e = {/usr/local/ban/gaf/hdt }"
      ],
      "execution_count": null,
      "outputs": []
    },
    {
      "cell_type": "code",
      "metadata": {
        "id": "QHaVkS-xHn2c"
      },
      "source": [
        "boston = pd.DataFrame(df.data, columns=df.feature_names)\n",
        "boston.head(16)"
      ],
      "execution_count": null,
      "outputs": []
    },
    {
      "cell_type": "code",
      "metadata": {
        "id": "gpy2JY7THxdc"
      },
      "source": [
        "boston['VDV'] = df.target\n",
        "boston.head(16)"
      ],
      "execution_count": null,
      "outputs": []
    },
    {
      "cell_type": "code",
      "metadata": {
        "id": "riagfdW7H2zE"
      },
      "source": [
        "boston.isnull(16)"
      ],
      "execution_count": null,
      "outputs": []
    },
    {
      "cell_type": "code",
      "metadata": {
        "id": "-34PpZs2H7UI"
      },
      "source": [
        "boston.isnull(16).sum()"
      ],
      "execution_count": null,
      "outputs": []
    }
  ]
}